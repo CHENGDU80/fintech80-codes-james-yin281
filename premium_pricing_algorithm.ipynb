{
 "cells": [
  {
   "cell_type": "code",
   "execution_count": 9,
   "metadata": {},
   "outputs": [],
   "source": [
    "import pandas as pd"
   ]
  },
  {
   "cell_type": "code",
   "execution_count": 10,
   "metadata": {},
   "outputs": [],
   "source": [
    "insurance_claim=pd.read_csv('dataset/data/Insurance_Claims.csv')\n",
    "polidrivingrecord=pd.read_csv('dataset/data/Polidriving_labeled.csv')\n",
    "car_insurance_simulated=pd.read_csv('dataset/data/car_insurance_simulated_data.csv')"
   ]
  },
  {
   "cell_type": "code",
   "execution_count": 14,
   "metadata": {},
   "outputs": [
    {
     "data": {
      "text/plain": [
       "count    1000.000000\n",
       "mean      104.700513\n",
       "std        20.347283\n",
       "min        36.110833\n",
       "25%        90.800625\n",
       "50%       104.766667\n",
       "75%       117.974583\n",
       "max       170.632500\n",
       "Name: policy_annual_premium, dtype: float64"
      ]
     },
     "execution_count": 14,
     "metadata": {},
     "output_type": "execute_result"
    }
   ],
   "source": [
    "(insurance_claim['policy_annual_premium']/12).describe()"
   ]
  },
  {
   "cell_type": "code",
   "execution_count": 7,
   "metadata": {},
   "outputs": [
    {
     "data": {
      "text/plain": [
       "count    23152.000000\n",
       "mean         1.624654\n",
       "std          0.793048\n",
       "min          1.000000\n",
       "25%          1.000000\n",
       "50%          1.000000\n",
       "75%          2.000000\n",
       "max          4.000000\n",
       "Name: risk_level, dtype: float64"
      ]
     },
     "execution_count": 7,
     "metadata": {},
     "output_type": "execute_result"
    }
   ],
   "source": [
    "polidrivingrecord['risk_level'].describe()"
   ]
  },
  {
   "cell_type": "code",
   "execution_count": 12,
   "metadata": {},
   "outputs": [
    {
     "data": {
      "text/plain": [
       "count      1000.00000\n",
       "mean      57499.11000\n",
       "std       23704.03156\n",
       "min       20000.00000\n",
       "25%       39900.00000\n",
       "50%       52000.00000\n",
       "75%       70000.00000\n",
       "max      120000.00000\n",
       "Name: Price, dtype: float64"
      ]
     },
     "execution_count": 12,
     "metadata": {},
     "output_type": "execute_result"
    }
   ],
   "source": [
    "car_insurance_simulated['Price'].describe()"
   ]
  },
  {
   "cell_type": "code",
   "execution_count": 20,
   "metadata": {},
   "outputs": [],
   "source": [
    "import numpy as np\n",
    "\n",
    "def calculate_premium(row):\n",
    "    if row['risk_level'] == 1:\n",
    "        return row['Price'] * 0.00070+80\n",
    "    elif row['risk_level'] == 2:\n",
    "        return row['Price'] * 0.00075+80\n",
    "    elif row['risk_level'] == 3:\n",
    "        return row['Price'] * 0.00080+80\n",
    "    elif row['risk_level'] == 4:\n",
    "        return row['Price'] * 0.00085+80\n",
    "    else:\n",
    "        return 0\n",
    "\n",
    "np.random.seed(42)  # For reproducibility\n",
    "df=pd.DataFrame(index=range(100))\n",
    "df['risk_level'] = np.random.randint(1, 5, size=len(df))\n",
    "df['Price'] = np.random.randint(20000, 100000, size=len(df))\n",
    "df['premium'] = df.apply(calculate_premium, axis=1)"
   ]
  },
  {
   "cell_type": "code",
   "execution_count": 21,
   "metadata": {},
   "outputs": [
    {
     "data": {
      "text/html": [
       "<div>\n",
       "<style scoped>\n",
       "    .dataframe tbody tr th:only-of-type {\n",
       "        vertical-align: middle;\n",
       "    }\n",
       "\n",
       "    .dataframe tbody tr th {\n",
       "        vertical-align: top;\n",
       "    }\n",
       "\n",
       "    .dataframe thead th {\n",
       "        text-align: right;\n",
       "    }\n",
       "</style>\n",
       "<table border=\"1\" class=\"dataframe\">\n",
       "  <thead>\n",
       "    <tr style=\"text-align: right;\">\n",
       "      <th></th>\n",
       "      <th>risk_level</th>\n",
       "      <th>Price</th>\n",
       "      <th>premium</th>\n",
       "    </tr>\n",
       "  </thead>\n",
       "  <tbody>\n",
       "    <tr>\n",
       "      <th>0</th>\n",
       "      <td>3</td>\n",
       "      <td>65758</td>\n",
       "      <td>132.60640</td>\n",
       "    </tr>\n",
       "    <tr>\n",
       "      <th>1</th>\n",
       "      <td>4</td>\n",
       "      <td>92409</td>\n",
       "      <td>158.54765</td>\n",
       "    </tr>\n",
       "    <tr>\n",
       "      <th>2</th>\n",
       "      <td>1</td>\n",
       "      <td>91211</td>\n",
       "      <td>143.84770</td>\n",
       "    </tr>\n",
       "    <tr>\n",
       "      <th>3</th>\n",
       "      <td>3</td>\n",
       "      <td>85697</td>\n",
       "      <td>148.55760</td>\n",
       "    </tr>\n",
       "    <tr>\n",
       "      <th>4</th>\n",
       "      <td>3</td>\n",
       "      <td>57065</td>\n",
       "      <td>125.65200</td>\n",
       "    </tr>\n",
       "    <tr>\n",
       "      <th>...</th>\n",
       "      <td>...</td>\n",
       "      <td>...</td>\n",
       "      <td>...</td>\n",
       "    </tr>\n",
       "    <tr>\n",
       "      <th>95</th>\n",
       "      <td>2</td>\n",
       "      <td>25530</td>\n",
       "      <td>99.14750</td>\n",
       "    </tr>\n",
       "    <tr>\n",
       "      <th>96</th>\n",
       "      <td>2</td>\n",
       "      <td>23748</td>\n",
       "      <td>97.81100</td>\n",
       "    </tr>\n",
       "    <tr>\n",
       "      <th>97</th>\n",
       "      <td>4</td>\n",
       "      <td>33545</td>\n",
       "      <td>108.51325</td>\n",
       "    </tr>\n",
       "    <tr>\n",
       "      <th>98</th>\n",
       "      <td>2</td>\n",
       "      <td>86199</td>\n",
       "      <td>144.64925</td>\n",
       "    </tr>\n",
       "    <tr>\n",
       "      <th>99</th>\n",
       "      <td>1</td>\n",
       "      <td>54766</td>\n",
       "      <td>118.33620</td>\n",
       "    </tr>\n",
       "  </tbody>\n",
       "</table>\n",
       "<p>100 rows × 3 columns</p>\n",
       "</div>"
      ],
      "text/plain": [
       "    risk_level  Price    premium\n",
       "0            3  65758  132.60640\n",
       "1            4  92409  158.54765\n",
       "2            1  91211  143.84770\n",
       "3            3  85697  148.55760\n",
       "4            3  57065  125.65200\n",
       "..         ...    ...        ...\n",
       "95           2  25530   99.14750\n",
       "96           2  23748   97.81100\n",
       "97           4  33545  108.51325\n",
       "98           2  86199  144.64925\n",
       "99           1  54766  118.33620\n",
       "\n",
       "[100 rows x 3 columns]"
      ]
     },
     "execution_count": 21,
     "metadata": {},
     "output_type": "execute_result"
    }
   ],
   "source": [
    "df"
   ]
  }
 ],
 "metadata": {
  "kernelspec": {
   "display_name": "thu",
   "language": "python",
   "name": "python3"
  },
  "language_info": {
   "codemirror_mode": {
    "name": "ipython",
    "version": 3
   },
   "file_extension": ".py",
   "mimetype": "text/x-python",
   "name": "python",
   "nbconvert_exporter": "python",
   "pygments_lexer": "ipython3",
   "version": "3.12.7"
  }
 },
 "nbformat": 4,
 "nbformat_minor": 2
}
